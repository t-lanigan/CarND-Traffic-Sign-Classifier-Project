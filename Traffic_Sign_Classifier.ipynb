{
 "cells": [
  {
   "cell_type": "markdown",
   "metadata": {},
   "source": [
    "# Project: Build a Traffic Sign Recognition Classifier Using Inception and LeNet Architectures\n",
    "\n",
    "Deep learning networks are increasingly becoming effective at image classification. Quickly they are surpassing traditional computer vision techniques in many areas including image classification of street signs. Autonomous vehicles can use deep learning networks to classify images takes from external cameras of street signs in order to help them follow the rules of the road in our current sign based traffic infrastructure. \n",
    "\n",
    "In this project, the German Traffic Sign Recognition Benchmark ('GTSRB') [dataset](http://benchmark.ini.rub.de/) is used to train two different convolutional neural networks based on the popular Inception and LeNet architectures. The performances are compared and discussed. As well, the networks trained are tested on images outisde of the dataset."
   ]
  },
  {
   "cell_type": "markdown",
   "metadata": {
    "toc": "true"
   },
   "source": [
    "# Table of Contents\n",
    " <p><div class=\"lev1 toc-item\"><a href=\"#Project:-Build-a-Traffic-Sign-Recognition-Classifier-Using-Inception-and-LeNet-Architectures\" data-toc-modified-id=\"Project:-Build-a-Traffic-Sign-Recognition-Classifier-Using-Inception-and-LeNet-Architectures-1\"><span class=\"toc-item-num\">1&nbsp;&nbsp;</span>Project: Build a Traffic Sign Recognition Classifier Using Inception and LeNet Architectures</a></div><div class=\"lev2 toc-item\"><a href=\"#Load-The-Data\" data-toc-modified-id=\"Load-The-Data-11\"><span class=\"toc-item-num\">1.1&nbsp;&nbsp;</span>Load The Data</a></div><div class=\"lev2 toc-item\"><a href=\"#Step-1:-Dataset-Summary-&amp;-Exploration\" data-toc-modified-id=\"Step-1:-Dataset-Summary-&amp;-Exploration-12\"><span class=\"toc-item-num\">1.2&nbsp;&nbsp;</span>Step 1: Dataset Summary &amp; Exploration</a></div><div class=\"lev1 toc-item\"><a href=\"#Design-and-Test-a-Model-Architecture\" data-toc-modified-id=\"Design-and-Test-a-Model-Architecture-2\"><span class=\"toc-item-num\">2&nbsp;&nbsp;</span>Design and Test a Model Architecture</a></div><div class=\"lev2 toc-item\"><a href=\"#Preprocessing\" data-toc-modified-id=\"Preprocessing-21\"><span class=\"toc-item-num\">2.1&nbsp;&nbsp;</span>Preprocessing</a></div><div class=\"lev2 toc-item\"><a href=\"#Question-1\" data-toc-modified-id=\"Question-1-22\"><span class=\"toc-item-num\">2.2&nbsp;&nbsp;</span>Question 1</a></div><div class=\"lev2 toc-item\"><a href=\"#Question-2\" data-toc-modified-id=\"Question-2-23\"><span class=\"toc-item-num\">2.3&nbsp;&nbsp;</span>Question 2</a></div><div class=\"lev1 toc-item\"><a href=\"#Building-the-Model\" data-toc-modified-id=\"Building-the-Model-3\"><span class=\"toc-item-num\">3&nbsp;&nbsp;</span>Building the Model</a></div><div class=\"lev2 toc-item\"><a href=\"#LeNet-Based-Architecture-with-Dropout\" data-toc-modified-id=\"LeNet-Based-Architecture-with-Dropout-31\"><span class=\"toc-item-num\">3.1&nbsp;&nbsp;</span>LeNet Based Architecture with Dropout</a></div><div class=\"lev2 toc-item\"><a href=\"#LeNet-Training\" data-toc-modified-id=\"LeNet-Training-32\"><span class=\"toc-item-num\">3.2&nbsp;&nbsp;</span>LeNet Training</a></div><div class=\"lev2 toc-item\"><a href=\"#Test-the-LeNet-Model\" data-toc-modified-id=\"Test-the-LeNet-Model-33\"><span class=\"toc-item-num\">3.3&nbsp;&nbsp;</span>Test the LeNet Model</a></div><div class=\"lev2 toc-item\"><a href=\"#LeNet-Model-Discussion\" data-toc-modified-id=\"LeNet-Model-Discussion-34\"><span class=\"toc-item-num\">3.4&nbsp;&nbsp;</span>LeNet Model Discussion</a></div><div class=\"lev2 toc-item\"><a href=\"#Inception-Based-Network\" data-toc-modified-id=\"Inception-Based-Network-35\"><span class=\"toc-item-num\">3.5&nbsp;&nbsp;</span>Inception Based Network</a></div><div class=\"lev2 toc-item\"><a href=\"#AWS-EC2-Instance\" data-toc-modified-id=\"AWS-EC2-Instance-36\"><span class=\"toc-item-num\">3.6&nbsp;&nbsp;</span>AWS EC2 Instance</a></div><div class=\"lev2 toc-item\"><a href=\"#Train-the-Inception-Model\" data-toc-modified-id=\"Train-the-Inception-Model-37\"><span class=\"toc-item-num\">3.7&nbsp;&nbsp;</span>Train the Inception Model</a></div><div class=\"lev2 toc-item\"><a href=\"#Test-the-Inception-Model\" data-toc-modified-id=\"Test-the-Inception-Model-38\"><span class=\"toc-item-num\">3.8&nbsp;&nbsp;</span>Test the Inception Model</a></div><div class=\"lev2 toc-item\"><a href=\"#Inception-Discussion\" data-toc-modified-id=\"Inception-Discussion-39\"><span class=\"toc-item-num\">3.9&nbsp;&nbsp;</span>Inception Discussion</a></div><div class=\"lev2 toc-item\"><a href=\"#Question-3\" data-toc-modified-id=\"Question-3-310\"><span class=\"toc-item-num\">3.10&nbsp;&nbsp;</span>Question 3</a></div><div class=\"lev2 toc-item\"><a href=\"#Question-4\" data-toc-modified-id=\"Question-4-311\"><span class=\"toc-item-num\">3.11&nbsp;&nbsp;</span>Question 4</a></div><div class=\"lev2 toc-item\"><a href=\"#Question-5\" data-toc-modified-id=\"Question-5-312\"><span class=\"toc-item-num\">3.12&nbsp;&nbsp;</span>Question 5</a></div><div class=\"lev1 toc-item\"><a href=\"#Test-a-Model-on-New-Images\" data-toc-modified-id=\"Test-a-Model-on-New-Images-4\"><span class=\"toc-item-num\">4&nbsp;&nbsp;</span>Test a Model on New Images</a></div><div class=\"lev2 toc-item\"><a href=\"#Question-6\" data-toc-modified-id=\"Question-6-41\"><span class=\"toc-item-num\">4.1&nbsp;&nbsp;</span>Question 6</a></div><div class=\"lev2 toc-item\"><a href=\"#Question-7\" data-toc-modified-id=\"Question-7-42\"><span class=\"toc-item-num\">4.2&nbsp;&nbsp;</span>Question 7</a></div><div class=\"lev2 toc-item\"><a href=\"#Question-8\" data-toc-modified-id=\"Question-8-43\"><span class=\"toc-item-num\">4.3&nbsp;&nbsp;</span>Question 8</a></div>"
   ]
  },
  {
   "cell_type": "markdown",
   "metadata": {},
   "source": [
    "\n",
    "## Load The Data"
   ]
  },
  {
   "cell_type": "code",
   "execution_count": 4,
   "metadata": {
    "collapsed": false
   },
   "outputs": [],
   "source": [
    "# Load pickled data\n",
    "import pickle\n",
    "import warnings\n",
    "warnings.filterwarnings('ignore')\n",
    "\n",
    "# Load Data\n",
    "\n",
    "training_file = \"./data/train.p\"\n",
    "testing_file = \"./data/test.p\"\n",
    "\n",
    "with open(training_file, mode='rb') as f:\n",
    "    train = pickle.load(f)\n",
    "with open(testing_file, mode='rb') as f:\n",
    "    test = pickle.load(f)\n",
    "    \n",
    "X_train, y_train = train['features'], train['labels']\n",
    "X_test, y_test = test['features'], test['labels']"
   ]
  },
  {
   "cell_type": "markdown",
   "metadata": {},
   "source": [
    "---\n",
    "\n",
    "## Step 1: Dataset Summary & Exploration\n",
    "\n",
    "The pickled data is a dictionary with 4 key/value pairs:\n",
    "\n",
    "- `'features'` is a 4D array containing raw pixel data of the traffic sign images, (num examples, width, height, channels).\n",
    "- `'labels'` is a 2D array containing the label/class id of the traffic sign. The file `signnames.csv` contains id -> name mappings for each id.\n",
    "- `'sizes'` is a list containing tuples, (width, height) representing the the original width and height the image.\n",
    "- `'coords'` is a list containing tuples, (x1, y1, x2, y2) representing coordinates of a bounding box around the sign in the image. \n",
    "\n",
    "A basic data summary is shown below."
   ]
  },
  {
   "cell_type": "code",
   "execution_count": 5,
   "metadata": {
    "collapsed": false
   },
   "outputs": [
    {
     "name": "stdout",
     "output_type": "stream",
     "text": [
      "Number of training examples = 39209\n",
      "Number of testing examples = 12630\n",
      "Image data shape = (32, 32, 3)\n",
      "Number of classes = 43\n"
     ]
    }
   ],
   "source": [
    "### Replace each question mark with the appropriate value.\n",
    "import numpy as np\n",
    "\n",
    "# Number of training examples\n",
    "n_train = len(X_train)\n",
    "\n",
    "# Number of testing examples.\n",
    "n_test = len(X_test)\n",
    "\n",
    "# What's the shape of an traffic sign image?\n",
    "image_shape = X_train[0].shape\n",
    "\n",
    "# How many unique classes/labels there are in the dataset.\n",
    "n_classes = len(np.unique(y_train))\n",
    "\n",
    "print(\"Number of training examples =\", n_train)\n",
    "print(\"Number of testing examples =\", n_test)\n",
    "print(\"Image data shape =\", image_shape)\n",
    "print(\"Number of classes =\", n_classes)"
   ]
  },
  {
   "cell_type": "markdown",
   "metadata": {},
   "source": [
    "Visualize the German Traffic Signs Dataset "
   ]
  },
  {
   "cell_type": "code",
   "execution_count": 6,
   "metadata": {
    "collapsed": false,
    "scrolled": true
   },
   "outputs": [
    {
     "data": {
      "image/png": "[encoded data removed]",
      "text/plain": [
       "<matplotlib.figure.Figure at 0x7f5ea77cd748>"
      ]
     },
     "metadata": {},
     "output_type": "display_data"
    }
   ],
   "source": [
    "### Data exploration visualization goes here.\n",
    "### Feel free to use as many code cells as needed.\n",
    "import matplotlib.pyplot as plt\n",
    "# Visualizations will be shown in the notebook.\n",
    "%matplotlib inline\n",
    "indx = np.arange(y_train.shape[0])\n",
    "# shuffle the indices\n",
    "np.random.shuffle(indx)\n",
    "# create subplot and fill with images\n",
    "f, axarr = plt.subplots(5, 2)\n",
    "for i in range(5):\n",
    "    for j in range(2):\n",
    "        axarr[i, j].imshow(X_train[indx[j+5*i]])\n",
    "        plt.setp(axarr[i,j].get_xticklabels(), visible=False)\n",
    "        plt.setp(axarr[i,j].get_yticklabels(), visible=False)\n",
    "plt.show()\n",
    "\n"
   ]
  },
  {
   "cell_type": "markdown",
   "metadata": {},
   "source": [
    "----\n",
    "\n",
    "# Design and Test a Model Architecture\n",
    "\n",
    "No we will design and implement a deep learning model that learns to recognize traffic signs. It will be trained and tested on the [German Traffic Sign Dataset](http://benchmark.ini.rub.de/?section=gtsrb&subsection=dataset).\n",
    "\n",
    "There are various aspects to consider when thinking about this problem:\n",
    "\n",
    "- Neural network architecture\n",
    "- Preprocessing techniques (normalization, rgb to grayscale, etc)\n",
    "- Number of examples per label (some have more than others)."
   ]
  },
  {
   "cell_type": "markdown",
   "metadata": {},
   "source": [
    "## Preprocessing\n",
    "\n",
    "The preprocessing steps are below:"
   ]
  },
  {
   "cell_type": "code",
   "execution_count": 7,
   "metadata": {
    "collapsed": false,
    "scrolled": true
   },
   "outputs": [
    {
     "name": "stderr",
     "output_type": "stream",
     "text": [
      "/home/carnd/anaconda3/envs/carnd/lib/python3.5/site-packages/sklearn/cross_validation.py:44: DeprecationWarning: This module was deprecated in version 0.18 in favor of the model_selection module into which all the refactored classes and functions are moved. Also note that the interface of the new CV iterators are different from that of this module. This module will be removed in 0.20.\n",
      "  \"This module will be removed in 0.20.\", DeprecationWarning)\n",
      "100%|██████████| 39209/39209 [00:01<00:00, 31498.42it/s]\n",
      "100%|██████████| 12630/12630 [00:00<00:00, 31304.24it/s]\n"
     ]
    },
    {
     "name": "stdout",
     "output_type": "stream",
     "text": [
      "\n",
      "Image Shape: (32, 32, 3)\n",
      "\n",
      "Training Set:   31367 samples\n",
      "Validation Set: 7842 samples\n",
      "Test Set:       12630 samples\n"
     ]
    }
   ],
   "source": [
    "import time\n",
    "from tqdm import tqdm\n",
    "from six.moves import cPickle as pickle\n",
    "import os\n",
    "import cv2\n",
    "from sklearn.cross_validation import train_test_split\n",
    "\n",
    "pixel_depth = 255.0\n",
    "\n",
    "def preprocess(image):\n",
    "    image = image.astype(float)\n",
    "    return (image-pixel_depth/2)/pixel_depth\n",
    "\n",
    "def preprocess_batch(images):\n",
    "    imgs = np.copy(images)\n",
    "    for i in tqdm(range(images.shape[0])):\n",
    "        imgs[i] = preprocess(images[i])\n",
    "    return imgs\n",
    "\n",
    "X_train_processed = preprocess_batch(X_train.astype(float))\n",
    "X_test_processed = preprocess_batch(X_test.astype(float))\n",
    "\n",
    "\n",
    "# We will use 80% for training and 20% for validation\n",
    "X_train, X_validation, y_train, y_validation = train_test_split(X_train_processed, \n",
    "                                                                y_train, \n",
    "                                                                test_size=0.20, \n",
    "                                                                random_state=42)\n",
    "\n",
    "#Make sure all the sets line up and print shapes.\n",
    "assert(len(X_train) == len(y_train))\n",
    "assert(len(X_validation) == len(y_validation))\n",
    "assert(len(X_test) == len(y_test))\n",
    "\n",
    "print()\n",
    "print(\"Image Shape: {}\".format(X_train[0].shape))\n",
    "print()\n",
    "print(\"Training Set:   {} samples\".format(len(X_train)))\n",
    "print(\"Validation Set: {} samples\".format(len(X_validation)))\n",
    "print(\"Test Set:       {} samples\".format(len(X_test)))\n",
    "\n"
   ]
  },
  {
   "cell_type": "markdown",
   "metadata": {},
   "source": [
    "## Question 1 \n",
    "\n",
    "Before doing training for the model, the features (or pixel values) were scaled across all three color channels). Features scaling though normalization can be an important preprocessing step for many machine learning algorithms. Standardization involves rescaling the features such that they have a mean of zero and a standard deviation of approximately one. For deep learning, standardization is especially important when it comes to back propagation and gradient decent. To illustrate this concept, I will borrow some slides from Andrew Ng's machine learning lecture. Suppose you are trying to optimize a function with two variables. The resulting optimization using gradient decent will look roughly like this:\n",
    "\n",
    "![gradient decent](http://1.bp.blogspot.com/-Lg0QSQz7HLo/VjROaiROGDI/AAAAAAAAAIg/PJLs8idA7HI/s1600/Capture3.GIF)\n",
    "<center> Source: Andrew Ng </center>\n",
    "\n",
    "On the left is the optimization performed where one feature has a larger variance than the other feature. As can be seen by the red line, which represents the steps made from doing stochastic gradient decent, the solution may often take longer than a feature space with equal variance. The result in the context of a deep neural network is that training will take a lot less time if the features are normalized before training takes place.\n",
    "\n"
   ]
  },
  {
   "cell_type": "markdown",
   "metadata": {},
   "source": [
    "## Question 2\n",
    "\n",
    "Three different sets of data are using in this project: training, validation and testing. The training set is used to train the model. In order to judge the intermediate performance of the model, the model is used to generate predictions and compared against the validation sets labels. This allows for development of the model, in order to optimize the validation score. When the validation score is as good as can be, and the model is finalized, the model is then tested against the held-out set to determine what the real world score should be expected to be. \n",
    "\n",
    "The reason that this is necessary is that only having one testing set will cause the model to effectively learn the values by continued iterations of the model's parameters to get a high test score. If this takes place, it can cause a false sense of how well the model will perform given new data.\n",
    "\n",
    "For our project, the existing data is shuffled, and split into a 80% training, 20% validation set. The existing test set is held-out until the end of the experiment."
   ]
  },
  {
   "cell_type": "markdown",
   "metadata": {},
   "source": [
    "# Building the Model"
   ]
  },
  {
   "cell_type": "markdown",
   "metadata": {},
   "source": [
    "## LeNet Based Architecture with Dropout\n",
    "\n",
    "The first network architecture used is based on the LeNet architecture. The LeNet architecture is often used as a starting point to develop a model as it is relatively lightweight (can be trained using a laptop) and performs well on datasets that don't have too many classes. The basic architecture of the LeNet can be visualized as follows:\n",
    "\n",
    "![lenet](http://eblearn.sourceforge.net/lib/exe/lenet5.png)\n",
    "<center> Source: Yann Lecun </center>\n",
    "\n",
    "__Modifications__:\n",
    "As the original LeNet architecture was made for the MNIST dataset, it was modified to output 43 classes instead of 10 classes. In addition, the dropout technique was added in order to reduce over-fitting."
   ]
  },
  {
   "cell_type": "code",
   "execution_count": 8,
   "metadata": {
    "collapsed": false
   },
   "outputs": [],
   "source": [
    "import tensorflow as tf\n",
    "from tensorflow.contrib.layers import flatten\n",
    "from sklearn.utils import shuffle\n",
    "\n",
    "X_train, y_train = shuffle(X_train, y_train)\n",
    "\n",
    "model_name = 'lenet_report'\n",
    "\n",
    "\n",
    "def lenet(x, dropout):    \n",
    "    # Hyperparameters\n",
    "    mu = 0\n",
    "    sigma = 0.1\n",
    "\n",
    "    \n",
    "    # Layer 1: Convolutional. Input = 32x32x1. Output = 28x28x6.\n",
    "    conv1_W = tf.Variable(tf.truncated_normal(shape=(5, 5, 3, 6), mean = mu, stddev = sigma))\n",
    "    conv1_b = tf.Variable(tf.zeros(6))\n",
    "    conv1   = tf.nn.conv2d(x, conv1_W, strides=[1, 1, 1, 1], padding='VALID') + conv1_b\n",
    "\n",
    "    # Activation.\n",
    "    conv1 = tf.nn.relu(conv1)\n",
    "\n",
    "    # Pooling. Input = 28x28x6. Output = 14x14x6.\n",
    "    conv1 = tf.nn.max_pool(conv1, ksize=[1, 2, 2, 1], strides=[1, 2, 2, 1], padding='VALID')\n",
    "\n",
    "    # Layer 2: Convolutional. Output = 10x10x16.\n",
    "    conv2_W = tf.Variable(tf.truncated_normal(shape=(5, 5, 6, 16), mean = mu, stddev = sigma))\n",
    "    conv2_b = tf.Variable(tf.zeros(16))\n",
    "    conv2   = tf.nn.conv2d(conv1, conv2_W, strides=[1, 1, 1, 1], padding='VALID') + conv2_b\n",
    "    \n",
    "    # Activation.\n",
    "    conv2 = tf.nn.relu(conv2)\n",
    "\n",
    "    # Pooling. Input = 10x10x16. Output = 5x5x16.\n",
    "    conv2 = tf.nn.max_pool(conv2, ksize=[1, 2, 2, 1], strides=[1, 2, 2, 1], padding='VALID')\n",
    "\n",
    "    # Flatten. Input = 5x5x16. Output = 400.\n",
    "    fc0   = flatten(conv2)\n",
    "    \n",
    "    # Layer 3: Fully Connected. Input = 400. Output = 120.\n",
    "    fc1_W = tf.Variable(tf.truncated_normal(shape=(400, 120), mean = mu, stddev = sigma))\n",
    "    fc1_b = tf.Variable(tf.zeros(120))\n",
    "    fc1   = tf.matmul(fc0, fc1_W) + fc1_b\n",
    "    \n",
    "    # Activation.\n",
    "    fc1    = tf.nn.relu(fc1)\n",
    "\n",
    "    # Layer 4: Fully Connected. Input = 120. Output = 84.\n",
    "    fc2_W  = tf.Variable(tf.truncated_normal(shape=(120, 84), mean = mu, stddev = sigma))\n",
    "    fc2_b  = tf.Variable(tf.zeros(84))\n",
    "    fc2    = tf.matmul(fc1, fc2_W) + fc2_b\n",
    "    \n",
    "    fc2 =tf.nn.dropout(tf.nn.relu(fc2), dropout)\n",
    "\n",
    "\n",
    "    # Layer 5: Fully Connected. Input = 84. Output = 43.\n",
    "    fc3_W  = tf.Variable(tf.truncated_normal(shape=(84, 43), mean = mu, stddev = sigma))\n",
    "    fc3_b  = tf.Variable(tf.zeros(43))\n",
    "    logits = tf.matmul(fc2, fc3_W) + fc3_b\n",
    "    \n",
    "    return logits\n",
    "\n",
    "#Features and Labels\n",
    "x = tf.placeholder(tf.float32, (None, 32, 32, 3))\n",
    "y = tf.placeholder(tf.int32, (None))\n",
    "keep_prob = tf.placeholder(tf.float32)\n",
    "one_hot_y = tf.one_hot(y, 43)\n",
    "\n",
    "\n",
    "#Training Pipeline\n",
    "rate = 0.001\n",
    "\n",
    "logits = lenet(x, keep_prob)\n",
    "cross_entropy = tf.nn.softmax_cross_entropy_with_logits(logits, one_hot_y)\n",
    "loss_operation = tf.reduce_mean(cross_entropy)\n",
    "optimizer = tf.train.AdamOptimizer(learning_rate = rate)\n",
    "training_operation = optimizer.minimize(loss_operation)\n",
    "\n",
    "#Model evaluation\n",
    "correct_prediction = tf.equal(tf.argmax(logits, 1), tf.argmax(one_hot_y, 1))\n",
    "accuracy_operation = tf.reduce_mean(tf.cast(correct_prediction, tf.float32))\n",
    "saver = tf.train.Saver()\n",
    "\n",
    "def evaluate(X_data, y_data):\n",
    "    num_examples = len(X_data)\n",
    "    total_accuracy = 0\n",
    "    sess = tf.get_default_session()\n",
    "    for offset in range(0, num_examples, BATCH_SIZE):\n",
    "        batch_x, batch_y = X_data[offset:offset+BATCH_SIZE], y_data[offset:offset+BATCH_SIZE]\n",
    "        accuracy = sess.run(accuracy_operation, feed_dict={x: batch_x, y: batch_y, keep_prob: 1.0})\n",
    "        total_accuracy += (accuracy * len(batch_x))\n",
    "    return total_accuracy / num_examples"
   ]
  },
  {
   "cell_type": "markdown",
   "metadata": {},
   "source": [
    "## LeNet Training"
   ]
  },
  {
   "cell_type": "code",
   "execution_count": 6,
   "metadata": {
    "collapsed": false
   },
   "outputs": [
    {
     "name": "stdout",
     "output_type": "stream",
     "text": [
      "Training...\n",
      "\n",
      "EPOCH 1 ...\n",
      "Validation Accuracy = 0.761\n",
      "\n",
      "EPOCH 2 ...\n",
      "Validation Accuracy = 0.871\n",
      "\n",
      "EPOCH 3 ...\n",
      "Validation Accuracy = 0.937\n",
      "\n",
      "EPOCH 4 ...\n",
      "Validation Accuracy = 0.956\n",
      "\n",
      "EPOCH 5 ...\n",
      "Validation Accuracy = 0.958\n",
      "\n",
      "EPOCH 6 ...\n",
      "Validation Accuracy = 0.970\n",
      "\n",
      "EPOCH 7 ...\n",
      "Validation Accuracy = 0.974\n",
      "\n",
      "EPOCH 8 ...\n",
      "Validation Accuracy = 0.978\n",
      "\n",
      "EPOCH 9 ...\n",
      "Validation Accuracy = 0.977\n",
      "\n",
      "EPOCH 10 ...\n",
      "Validation Accuracy = 0.980\n",
      "\n",
      "EPOCH 11 ...\n",
      "Validation Accuracy = 0.982\n",
      "\n",
      "EPOCH 12 ...\n",
      "Validation Accuracy = 0.987\n",
      "\n",
      "EPOCH 13 ...\n",
      "Validation Accuracy = 0.984\n",
      "\n",
      "EPOCH 14 ...\n",
      "Validation Accuracy = 0.985\n",
      "\n",
      "EPOCH 15 ...\n",
      "Validation Accuracy = 0.986\n",
      "\n",
      "EPOCH 16 ...\n",
      "Validation Accuracy = 0.986\n",
      "\n",
      "EPOCH 17 ...\n",
      "Validation Accuracy = 0.985\n",
      "\n",
      "EPOCH 18 ...\n",
      "Validation Accuracy = 0.988\n",
      "\n",
      "EPOCH 19 ...\n",
      "Validation Accuracy = 0.986\n",
      "\n",
      "EPOCH 20 ...\n",
      "Validation Accuracy = 0.987\n",
      "\n",
      "EPOCH 21 ...\n",
      "Validation Accuracy = 0.983\n",
      "\n",
      "EPOCH 22 ...\n",
      "Validation Accuracy = 0.985\n",
      "\n",
      "EPOCH 23 ...\n",
      "Validation Accuracy = 0.985\n",
      "\n",
      "EPOCH 24 ...\n",
      "Validation Accuracy = 0.988\n",
      "\n",
      "EPOCH 25 ...\n",
      "Validation Accuracy = 0.989\n",
      "\n",
      "EPOCH 26 ...\n",
      "Validation Accuracy = 0.987\n",
      "\n",
      "EPOCH 27 ...\n",
      "Validation Accuracy = 0.990\n",
      "\n",
      "EPOCH 28 ...\n",
      "Validation Accuracy = 0.988\n",
      "\n",
      "EPOCH 29 ...\n",
      "Validation Accuracy = 0.988\n",
      "\n",
      "EPOCH 30 ...\n",
      "Validation Accuracy = 0.989\n",
      "\n",
      "EPOCH 31 ...\n",
      "Validation Accuracy = 0.990\n",
      "\n",
      "EPOCH 32 ...\n",
      "Validation Accuracy = 0.991\n",
      "\n",
      "EPOCH 33 ...\n",
      "Validation Accuracy = 0.988\n",
      "\n",
      "EPOCH 34 ...\n",
      "Validation Accuracy = 0.989\n",
      "\n",
      "EPOCH 35 ...\n",
      "Validation Accuracy = 0.990\n",
      "\n",
      "EPOCH 36 ...\n",
      "Validation Accuracy = 0.989\n",
      "\n",
      "EPOCH 37 ...\n",
      "Validation Accuracy = 0.987\n",
      "\n",
      "EPOCH 38 ...\n",
      "Validation Accuracy = 0.990\n",
      "\n",
      "EPOCH 39 ...\n",
      "Validation Accuracy = 0.988\n",
      "\n",
      "EPOCH 40 ...\n",
      "Validation Accuracy = 0.989\n",
      "\n",
      "EPOCH 41 ...\n",
      "Validation Accuracy = 0.990\n",
      "\n",
      "EPOCH 42 ...\n",
      "Validation Accuracy = 0.988\n",
      "\n",
      "EPOCH 43 ...\n",
      "Validation Accuracy = 0.988\n",
      "\n",
      "EPOCH 44 ...\n",
      "Validation Accuracy = 0.989\n",
      "\n",
      "EPOCH 45 ...\n",
      "Validation Accuracy = 0.991\n",
      "\n",
      "EPOCH 46 ...\n",
      "Validation Accuracy = 0.988\n",
      "\n",
      "EPOCH 47 ...\n",
      "Validation Accuracy = 0.990\n",
      "\n",
      "EPOCH 48 ...\n",
      "Validation Accuracy = 0.991\n",
      "\n",
      "EPOCH 49 ...\n",
      "Validation Accuracy = 0.989\n",
      "\n",
      "EPOCH 50 ...\n",
      "Validation Accuracy = 0.991\n",
      "\n",
      "EPOCH 51 ...\n",
      "Validation Accuracy = 0.989\n",
      "\n",
      "EPOCH 52 ...\n",
      "Validation Accuracy = 0.987\n",
      "\n",
      "EPOCH 53 ...\n",
      "Validation Accuracy = 0.989\n",
      "\n",
      "EPOCH 54 ...\n",
      "Validation Accuracy = 0.990\n",
      "\n",
      "EPOCH 55 ...\n",
      "Validation Accuracy = 0.991\n",
      "\n",
      "EPOCH 56 ...\n",
      "Validation Accuracy = 0.992\n",
      "\n",
      "EPOCH 57 ...\n",
      "Validation Accuracy = 0.991\n",
      "\n",
      "EPOCH 58 ...\n",
      "Validation Accuracy = 0.991\n",
      "\n",
      "EPOCH 59 ...\n",
      "Validation Accuracy = 0.989\n",
      "\n",
      "EPOCH 60 ...\n",
      "Validation Accuracy = 0.991\n",
      "\n",
      "EPOCH 61 ...\n",
      "Validation Accuracy = 0.991\n",
      "\n",
      "EPOCH 62 ...\n",
      "Validation Accuracy = 0.990\n",
      "\n",
      "EPOCH 63 ...\n",
      "Validation Accuracy = 0.988\n",
      "\n",
      "EPOCH 64 ...\n",
      "Validation Accuracy = 0.989\n",
      "\n",
      "EPOCH 65 ...\n",
      "Validation Accuracy = 0.988\n",
      "\n",
      "EPOCH 66 ...\n",
      "Validation Accuracy = 0.989\n",
      "\n",
      "EPOCH 67 ...\n",
      "Validation Accuracy = 0.991\n",
      "\n",
      "EPOCH 68 ...\n",
      "Validation Accuracy = 0.989\n",
      "\n",
      "EPOCH 69 ...\n",
      "Validation Accuracy = 0.990\n",
      "\n",
      "EPOCH 70 ...\n",
      "Validation Accuracy = 0.992\n",
      "\n",
      "EPOCH 71 ...\n",
      "Validation Accuracy = 0.991\n",
      "\n",
      "EPOCH 72 ...\n",
      "Validation Accuracy = 0.990\n",
      "\n",
      "EPOCH 73 ...\n",
      "Validation Accuracy = 0.989\n",
      "\n",
      "EPOCH 74 ...\n",
      "Validation Accuracy = 0.991\n",
      "\n",
      "EPOCH 75 ...\n",
      "Validation Accuracy = 0.991\n",
      "\n",
      "EPOCH 76 ...\n",
      "Validation Accuracy = 0.989\n",
      "\n",
      "EPOCH 77 ...\n",
      "Validation Accuracy = 0.990\n",
      "\n",
      "EPOCH 78 ...\n",
      "Validation Accuracy = 0.992\n",
      "\n",
      "EPOCH 79 ...\n",
      "Validation Accuracy = 0.990\n",
      "\n",
      "EPOCH 80 ...\n",
      "Validation Accuracy = 0.988\n",
      "\n",
      "EPOCH 81 ...\n",
      "Validation Accuracy = 0.987\n",
      "\n",
      "EPOCH 82 ...\n",
      "Validation Accuracy = 0.991\n",
      "\n",
      "EPOCH 83 ...\n",
      "Validation Accuracy = 0.990\n",
      "\n",
      "EPOCH 84 ...\n",
      "Validation Accuracy = 0.990\n",
      "\n",
      "EPOCH 85 ...\n",
      "Validation Accuracy = 0.989\n",
      "\n",
      "EPOCH 86 ...\n",
      "Validation Accuracy = 0.989\n",
      "\n",
      "EPOCH 87 ...\n",
      "Validation Accuracy = 0.991\n",
      "\n",
      "EPOCH 88 ...\n",
      "Validation Accuracy = 0.991\n",
      "\n",
      "EPOCH 89 ...\n",
      "Validation Accuracy = 0.990\n",
      "\n",
      "EPOCH 90 ...\n",
      "Validation Accuracy = 0.991\n",
      "\n",
      "EPOCH 91 ...\n",
      "Validation Accuracy = 0.991\n",
      "\n",
      "EPOCH 92 ...\n",
      "Validation Accuracy = 0.990\n",
      "\n",
      "EPOCH 93 ...\n",
      "Validation Accuracy = 0.991\n",
      "\n",
      "EPOCH 94 ...\n",
      "Validation Accuracy = 0.991\n",
      "\n",
      "EPOCH 95 ...\n",
      "Validation Accuracy = 0.990\n",
      "\n",
      "EPOCH 96 ...\n",
      "Validation Accuracy = 0.991\n",
      "\n",
      "EPOCH 97 ...\n",
      "Validation Accuracy = 0.990\n",
      "\n",
      "EPOCH 98 ...\n",
      "Validation Accuracy = 0.991\n",
      "\n",
      "EPOCH 99 ...\n",
      "Validation Accuracy = 0.991\n",
      "\n",
      "EPOCH 100 ...\n",
      "Validation Accuracy = 0.991\n",
      "\n",
      "Model saved\n"
     ]
    }
   ],
   "source": [
    "EPOCHS = 100\n",
    "BATCH_SIZE = 128\n",
    "dropout = 0.75\n",
    "\n",
    "with tf.Session() as sess:\n",
    "    sess.run(tf.global_variables_initializer())\n",
    "    num_examples = len(X_train)\n",
    "    \n",
    "    print(\"Training...\")\n",
    "    print()\n",
    "    for i in range(EPOCHS):\n",
    "        X_train, y_train = shuffle(X_train, y_train)\n",
    "        for offset in range(0, num_examples, BATCH_SIZE):\n",
    "            end = offset + BATCH_SIZE\n",
    "            batch_x, batch_y = X_train[offset:end], y_train[offset:end]\n",
    "            sess.run(training_operation, feed_dict={x: batch_x, y: batch_y, keep_prob: dropout })\n",
    "            \n",
    "        validation_accuracy = evaluate(X_validation, y_validation)\n",
    "        print(\"EPOCH {} ...\".format(i+1))\n",
    "        print(\"Validation Accuracy = {:.3f}\".format(validation_accuracy))\n",
    "        print()\n",
    "        \n",
    "    saver.save(sess, './models/'+model_name)\n",
    "    print(\"Model saved\")"
   ]
  },
  {
   "cell_type": "markdown",
   "metadata": {},
   "source": [
    "## Test the LeNet Model"
   ]
  },
  {
   "cell_type": "code",
   "execution_count": 7,
   "metadata": {
    "collapsed": false
   },
   "outputs": [
    {
     "name": "stdout",
     "output_type": "stream",
     "text": [
      "loading lenet_report...\n",
      "Test Accuracy = 0.941\n"
     ]
    }
   ],
   "source": [
    "with tf.Session() as sess:\n",
    "    print ('loading '+model_name+'...')\n",
    "    saver.restore(sess,   './models/'+model_name)\n",
    "\n",
    "    test_accuracy = evaluate(X_test, y_test)\n",
    "    print(\"Test Accuracy = {:.3f}\".format(test_accuracy))"
   ]
  },
  {
   "cell_type": "markdown",
   "metadata": {},
   "source": [
    "## LeNet Model Discussion"
   ]
  },
  {
   "cell_type": "markdown",
   "metadata": {},
   "source": [
    "The best score achieved on the validation set with the LeNet network is 0.992 for 100 training epochs. On testing the network on the held out dataset, it achieves a score of 0.941. This is a great score, considering how easy it is to train the LeNet network (roughly 20 minutes using a g2.2xlarge instance)."
   ]
  },
  {
   "cell_type": "markdown",
   "metadata": {},
   "source": [
    "## Inception Based Network\n",
    "\n",
    "GoogLeNet is a network architecture that performs notably well for image classification tasks. A main difference between GoogLeNet and LeNet is the inception module. The inception module can be visualized as follows:\n",
    "\n",
    "![inception](https://culurciello.github.io/assets/nets/inceptionv1.jpg)\n",
    "\n",
    "Often, when designing a network, it is unclear whether to use a 5x5, 3x3 1x1 or max-pooling function. The inception module takes the guess work out of the process. It uses them all and concatenates the results in the end. In this manner, the network teaches itself which of the functions is the best to use.\n",
    "\n",
    "__Modifications__:\n",
    "\n",
    "As the original GoogLeNet took roughly 1 week to train on GPU that were far better than this laptop, a smaller network is trained that uses inceptions modules. Specifically this network is: An inceptions module --> A second inception module --> a fully connected layer --> dropout --> the output classification layer."
   ]
  },
  {
   "cell_type": "markdown",
   "metadata": {},
   "source": [
    "## AWS EC2 Instance\n",
    "\n",
    "As my laptop does not possess the necessary horsepower to train the inception network, a AWS EC2 GPU instance is used. The specific instance used is the `g2.2xlarge` instance with the following properties:\n",
    "\n",
    "| Model      | GPUs | vCPU | Mem (GiB) | SSD Storage (GB) |\n",
    "|------------|------|------|-----------|------------------|\n",
    "| g2.2xlarge | 1    | 8    | 15        | 1 x 60           |"
   ]
  },
  {
   "cell_type": "code",
   "execution_count": 5,
   "metadata": {
    "collapsed": false
   },
   "outputs": [],
   "source": [
    "import tensorflow as tf\n",
    "from tensorflow.contrib.layers import flatten\n",
    "from sklearn.utils import shuffle\n",
    "\n",
    "X_train, y_train = shuffle(X_train, y_train)\n",
    "\n",
    "# Hyperparameters\n",
    "batch_size = 50\n",
    "map1 = 32\n",
    "map2 = 64\n",
    "num_fc1 = 700 #1028\n",
    "num_fc2 = 43\n",
    "reduce1x1 = 16\n",
    "dropout = 0.50\n",
    "model_name = 'inception_dropout'\n",
    "\n",
    "\n",
    "\n",
    "def createWeight(size,Name):\n",
    "    return tf.Variable(tf.truncated_normal(size, stddev=0.1),\n",
    "                      name=Name)\n",
    "\n",
    "def createBias(size,Name):\n",
    "    return tf.Variable(tf.constant(0.1,shape=size),\n",
    "                      name=Name)\n",
    "\n",
    "def conv2d_s1(x,W):\n",
    "    return tf.nn.conv2d(x,W,strides=[1,1,1,1],padding='SAME')\n",
    "\n",
    "def max_pool_3x3_s1(x):\n",
    "    return tf.nn.max_pool(x,ksize=[1,3,3,1],\n",
    "                         strides=[1,1,1,1],padding='SAME')\n",
    "\n",
    "\n",
    "#Inception Module 1\n",
    "#\n",
    "#follows input\n",
    "W_conv1_1x1_1 = createWeight([1,1,3,map1],'W_conv1_1x1_1')\n",
    "b_conv1_1x1_1 = createWeight([map1],'b_conv1_1x1_1')\n",
    "\n",
    "#follows input\n",
    "W_conv1_1x1_2 = createWeight([1,1,3,reduce1x1],'W_conv1_1x1_2')\n",
    "b_conv1_1x1_2 = createWeight([reduce1x1],'b_conv1_1x1_2')\n",
    "\n",
    "#follows input\n",
    "W_conv1_1x1_3 = createWeight([1,1,3,reduce1x1],'W_conv1_1x1_3')\n",
    "b_conv1_1x1_3 = createWeight([reduce1x1],'b_conv1_1x1_3')\n",
    "\n",
    "#follows 1x1_2\n",
    "W_conv1_3x3 = createWeight([3,3,reduce1x1,map1],'W_conv1_3x3')\n",
    "b_conv1_3x3 = createWeight([map1],'b_conv1_3x3')\n",
    "\n",
    "#follows 1x1_3\n",
    "W_conv1_5x5 = createWeight([5,5,reduce1x1,map1],'W_conv1_5x5')\n",
    "b_conv1_5x5 = createBias([map1],'b_conv1_5x5')\n",
    "\n",
    "#follows max pooling\n",
    "W_conv1_1x1_4= createWeight([1,1,3,map1],'W_conv1_1x1_4')\n",
    "b_conv1_1x1_4= createWeight([map1],'b_conv1_1x1_4')\n",
    "\n",
    "\n",
    "\n",
    "#Inception Module 2\n",
    "#\n",
    "#follows inception1\n",
    "W_conv2_1x1_1 = createWeight([1,1,4*map1,map2],'W_conv2_1x1_1')\n",
    "b_conv2_1x1_1 = createWeight([map2],'b_conv2_1x1_1')\n",
    "\n",
    "#follows inception1\n",
    "W_conv2_1x1_2 = createWeight([1,1,4*map1,reduce1x1],'W_conv2_1x1_2')\n",
    "b_conv2_1x1_2 = createWeight([reduce1x1],'b_conv2_1x1_2')\n",
    "\n",
    "#follows inception1\n",
    "W_conv2_1x1_3 = createWeight([1,1,4*map1,reduce1x1],'W_conv2_1x1_3')\n",
    "b_conv2_1x1_3 = createWeight([reduce1x1],'b_conv2_1x1_3')\n",
    "\n",
    "#follows 1x1_2\n",
    "W_conv2_3x3 = createWeight([3,3,reduce1x1,map2],'W_conv2_3x3')\n",
    "b_conv2_3x3 = createWeight([map2],'b_conv2_3x3')\n",
    "\n",
    "#follows 1x1_3\n",
    "W_conv2_5x5 = createWeight([5,5,reduce1x1,map2],'W_conv2_5x5')\n",
    "b_conv2_5x5 = createBias([map2],'b_conv2_5x5')\n",
    "\n",
    "#follows max pooling\n",
    "W_conv2_1x1_4= createWeight([1,1,4*map1,map2],'W_conv2_1x1_4')\n",
    "b_conv2_1x1_4= createWeight([map2],'b_conv2_1x1_4')\n",
    "\n",
    "\n",
    "\n",
    "#Fully connected layers\n",
    "#since padding is same, the feature map with there will be 4 32*32*map2\n",
    "W_fc1 = createWeight([32*32*(4*map2),num_fc1],'W_fc1')\n",
    "b_fc1 = createBias([num_fc1],'b_fc1')\n",
    "\n",
    "W_fc2 = createWeight([num_fc1,num_fc2],'W_fc2')\n",
    "b_fc2 = createBias([num_fc2],'b_fc2')\n",
    "\n",
    "\n",
    "   \n",
    "def inception(x, keep_prob): \n",
    "    #Inception Module 1\n",
    "    conv1_1x1_1 = conv2d_s1(x,W_conv1_1x1_1)+b_conv1_1x1_1\n",
    "    conv1_1x1_2 = tf.nn.relu(conv2d_s1(x,W_conv1_1x1_2)+b_conv1_1x1_2)\n",
    "    conv1_1x1_3 = tf.nn.relu(conv2d_s1(x,W_conv1_1x1_3)+b_conv1_1x1_3)\n",
    "    conv1_3x3 = conv2d_s1(conv1_1x1_2,W_conv1_3x3)+b_conv1_3x3\n",
    "    conv1_5x5 = conv2d_s1(conv1_1x1_3,W_conv1_5x5)+b_conv1_5x5\n",
    "    maxpool1 = max_pool_3x3_s1(x)\n",
    "    conv1_1x1_4 = conv2d_s1(maxpool1,W_conv1_1x1_4)+b_conv1_1x1_4\n",
    "\n",
    "    #concatenate all the feature maps and hit them with a relu\n",
    "    inception1 = tf.nn.relu(tf.concat(3,[conv1_1x1_1,conv1_3x3,conv1_5x5,conv1_1x1_4]))\n",
    "\n",
    "\n",
    "    #Inception Module 2\n",
    "    conv2_1x1_1 = conv2d_s1(inception1,W_conv2_1x1_1)+b_conv2_1x1_1\n",
    "    conv2_1x1_2 = tf.nn.relu(conv2d_s1(inception1,W_conv2_1x1_2)+b_conv2_1x1_2)\n",
    "    conv2_1x1_3 = tf.nn.relu(conv2d_s1(inception1,W_conv2_1x1_3)+b_conv2_1x1_3)\n",
    "    conv2_3x3 = conv2d_s1(conv2_1x1_2,W_conv2_3x3)+b_conv2_3x3\n",
    "    conv2_5x5 = conv2d_s1(conv2_1x1_3,W_conv2_5x5)+b_conv2_5x5\n",
    "    maxpool2 = max_pool_3x3_s1(inception1)\n",
    "    conv2_1x1_4 = conv2d_s1(maxpool2,W_conv2_1x1_4)+b_conv2_1x1_4\n",
    "\n",
    "    #concatenate all the feature maps and hit them with a relu\n",
    "    inception2 = tf.nn.relu(tf.concat(3,[conv2_1x1_1,conv2_3x3,conv2_5x5,conv2_1x1_4]))\n",
    "\n",
    "    #flatten features for fully connected layer\n",
    "    inception2_flat = tf.reshape(inception2,[-1,32*32*4*map2])\n",
    "\n",
    "    #Fully connected layers, w/ dropout\n",
    "\n",
    "    h_fc1 =tf.nn.dropout(tf.nn.relu(tf.matmul(inception2_flat,W_fc1)+b_fc1),keep_prob)\n",
    "\n",
    "        \n",
    "    #Layer2\n",
    "    logits = tf.matmul(h_fc1,W_fc2)+b_fc2\n",
    "\n",
    "    return logits\n",
    "\n",
    "#Variables\n",
    "x = tf.placeholder(tf.float32, (None, 32, 32, 3))\n",
    "y = tf.placeholder(tf.int32, (None))\n",
    "keep_prob = tf.placeholder(tf.float32)\n",
    "one_hot_y = tf.one_hot(y, 43)\n",
    "\n",
    "\n",
    "#Training Pipelin\n",
    "rate = 0.001\n",
    "logits = inception(x, keep_prob)\n",
    "cross_entropy = tf.nn.softmax_cross_entropy_with_logits(logits, one_hot_y)\n",
    "loss_operation = tf.reduce_mean(cross_entropy)\n",
    "optimizer = tf.train.AdamOptimizer(learning_rate = rate)\n",
    "training_operation = optimizer.minimize(loss_operation)\n",
    "\n",
    "#The correct_prediction line works with softmax output.\n",
    "correct_prediction = tf.equal(tf.argmax(logits, 1), tf.argmax(one_hot_y, 1))\n",
    "accuracy_operation = tf.reduce_mean(tf.cast(correct_prediction, tf.float32))\n",
    "saver = tf.train.Saver()\n",
    "\n",
    "\n",
    "#Evaluation pipeline\n",
    "def evaluate(X_data, y_data):\n",
    "    num_examples = len(X_data)\n",
    "    total_accuracy = 0\n",
    "    sess = tf.get_default_session()\n",
    "    for offset in range(0, num_examples, BATCH_SIZE):\n",
    "        batch_x, batch_y = X_data[offset:offset+BATCH_SIZE], y_data[offset:offset+BATCH_SIZE]\n",
    "        accuracy = sess.run(accuracy_operation, feed_dict={x: batch_x, y: batch_y, keep_prob: 1.0})\n",
    "        total_accuracy += (accuracy * len(batch_x))\n",
    "    return total_accuracy / num_examples"
   ]
  },
  {
   "cell_type": "markdown",
   "metadata": {},
   "source": [
    "## Train the Inception Model"
   ]
  },
  {
   "cell_type": "code",
   "execution_count": 9,
   "metadata": {
    "collapsed": false,
    "scrolled": false
   },
   "outputs": [
    {
     "name": "stdout",
     "output_type": "stream",
     "text": [
      "Training...\n",
      "\n",
      "EPOCH 1 ...\n",
      "Validation Accuracy = 0.633\n",
      "\n",
      "EPOCH 2 ...\n",
      "Validation Accuracy = 0.925\n",
      "\n",
      "EPOCH 3 ...\n",
      "Validation Accuracy = 0.958\n",
      "\n",
      "EPOCH 4 ...\n",
      "Validation Accuracy = 0.974\n",
      "\n",
      "EPOCH 5 ...\n",
      "Validation Accuracy = 0.980\n",
      "\n",
      "EPOCH 6 ...\n",
      "Validation Accuracy = 0.983\n",
      "\n",
      "EPOCH 7 ...\n",
      "Validation Accuracy = 0.983\n",
      "\n",
      "EPOCH 8 ...\n",
      "Validation Accuracy = 0.985\n",
      "\n",
      "EPOCH 9 ...\n",
      "Validation Accuracy = 0.987\n",
      "\n",
      "EPOCH 10 ...\n",
      "Validation Accuracy = 0.984\n",
      "\n",
      "Model saved\n"
     ]
    }
   ],
   "source": [
    "EPOCHS = 10\n",
    "BATCH_SIZE = 128\n",
    "\n",
    "\n",
    "\n",
    "with tf.Session() as sess:\n",
    "    sess.run(tf.global_variables_initializer())\n",
    "    num_examples = len(X_train)\n",
    "    \n",
    "    print(\"Training...\")\n",
    "    print()\n",
    "    for i in range(EPOCHS):\n",
    "        X_train, y_train = shuffle(X_train, y_train)\n",
    "        for offset in range(0, num_examples, BATCH_SIZE):\n",
    "            end = offset + BATCH_SIZE\n",
    "            batch_x, batch_y = X_train[offset:end], y_train[offset:end]\n",
    "            sess.run(training_operation, feed_dict={x: batch_x, y: batch_y, keep_prob: dropout })\n",
    "            \n",
    "        validation_accuracy = evaluate(X_validation, y_validation)\n",
    "        print(\"EPOCH {} ...\".format(i+1))\n",
    "        print(\"Validation Accuracy = {:.3f}\".format(validation_accuracy))\n",
    "        print()\n",
    "        \n",
    "    saver.save(sess, 'models/'+model_name)\n",
    "    print(\"Model saved\")"
   ]
  },
  {
   "cell_type": "markdown",
   "metadata": {},
   "source": [
    "## Test the Inception Model\n",
    "This is the final test performed on held out test set."
   ]
  },
  {
   "cell_type": "code",
   "execution_count": 14,
   "metadata": {
    "collapsed": false
   },
   "outputs": [
    {
     "name": "stdout",
     "output_type": "stream",
     "text": [
      "Test Accuracy = 0.607\n"
     ]
    }
   ],
   "source": [
    "with tf.Session() as sess:\n",
    "    saver.restore(sess, 'models/'+model_name)\n",
    "\n",
    "    test_accuracy = evaluate(X_test, y_test)\n",
    "    print(\"Test Accuracy = {:.3f}\".format(test_accuracy))"
   ]
  },
  {
   "cell_type": "markdown",
   "metadata": {},
   "source": [
    "## Inception Discussion"
   ]
  },
  {
   "cell_type": "markdown",
   "metadata": {},
   "source": [
    "As the inception module took roughly 5 hours to train on the EC2 instance, it is rather disappointing to see that it over-fit the data so much and that the test accuracy was 0.607. Perhaps this is to be expected, as the original GoogLeNet was 22 layers deep, and our light version was only 6 layers deep. As it was rather computationally expensive to train the Inception network, and the LeNet performed fairly well, the LeNet will be the network used for the rest of this project.\n",
    "\n",
    "In order to improve these results in the future, a small training rate should be used. It can be seen from the log that the network quickly jumps to a 0.925 sucess rate ont he validation set. This is an indication that the network is over-fitting and should have a lower learning rate. In addition, the LeNet trained for this project used 100 epochs to train itself. The Inception based network only used 10. \n"
   ]
  },
  {
   "cell_type": "markdown",
   "metadata": {},
   "source": [
    "## Question 3\n"
   ]
  },
  {
   "cell_type": "markdown",
   "metadata": {},
   "source": [
    "The final network architecture is as follows:\n",
    "\n",
    "| Type                \t| Input Size \t| Patch Size / Stride \t| Output Size \t| Padding \t|\n",
    "|---------------------\t|------------\t|---------------------\t|-------------\t|---------\t|\n",
    "| convolution         \t|   32x32x3  \t|       5x5 / 1       \t|   28x28x6   \t|  VALID  \t|\n",
    "| relu_activation     \t|      -     \t|          -          \t|      -      \t|    -    \t|\n",
    "| max_pool            \t|   28x28x6  \t|       2x2 / 2       \t|   14x14x6   \t|  VALID  \t|\n",
    "| convolution         \t|   14x14x6  \t|       5x5 / 1       \t|   10x10x16  \t|  VALID  \t|\n",
    "| relu_activation     \t|      -     \t|          -          \t|      -      \t|    -    \t|\n",
    "| max_pool            \t|  10x10x16  \t|       2x2 / 1       \t|    5x5x16   \t|  VALID  \t|\n",
    "| flatten             \t|   5x5x16   \t|          -          \t|    400x1    \t|    -    \t|\n",
    "| fully_connected     \t|    400x1   \t|          -          \t|    120x1    \t|    -    \t|\n",
    "| fully_connected     \t|    120x1   \t|          -          \t|     84x1    \t|    -    \t|\n",
    "| dropout             \t|      -     \t|          -          \t|      -      \t|    -    \t|\n",
    "| fully_connected_out \t|    84x1    \t|          -          \t|     43x1    \t|    -    \t|"
   ]
  },
  {
   "cell_type": "markdown",
   "metadata": {},
   "source": [
    "## Question 4\n"
   ]
  },
  {
   "cell_type": "markdown",
   "metadata": {},
   "source": [
    "In order to train the model the following parameters of the network were used:\n",
    "\n",
    "* _Optimizer_: Adam optimizer. This optimizer has been [empirically shown](https://arxiv.org/abs/1412.6980) to work well with stochastic gradient decent.\n",
    "* _Batch Size_: 128\n",
    "* _Epochs_: 100\n",
    "* _Hyperparameters_: mu = 0, sigma = 1 (refering to initialization of weights in the network)\n",
    "\n",
    "The Final network was trained on a AWS EC2 GPU instance (g2.2xlarge)"
   ]
  },
  {
   "cell_type": "markdown",
   "metadata": {},
   "source": [
    "## Question 5\n",
    "\n",
    "__Research__\n",
    "\n",
    "The first step taken to solving this problem was to do a literature search. The following two papers talk about the sucess of the GooLeNet and the Inception module, and were good motivation to try using inception for this problem:\n",
    "\n",
    "* [Going Deeper with Convolutions](https://www.cs.unc.edu/~wliu/papers/GoogLeNet.pdf)\n",
    "* [Traffic Sign Classification Using Deep Inception\n",
    "Based Convolutional Networks](https://arxiv.org/pdf/1511.02992.pdf)\n",
    "\n",
    "__Preprocessing__\n",
    "\n",
    "Several different preprocessing steps were attempted for the images. \n",
    "\n",
    "_Greyscaling_: The first was to look at greyscaling the images. This would reduce the features space by 2/3 as the number of color channels goes from 3 to 1. This would result in faster training. Greyscaling the images resulted in a poorer validation result as the images lost too much of the information contained in the colors of the images\n",
    "\n",
    "_RGB to HSV and YUV_: As some of the pictures were taken under different lighting conditions, it was theorized changing color space would help acount for some of the variance. This was again rejected as it reduced the validation score.\n",
    "\n",
    "_Image Denoising_: A high degree of noise to be present in some images due to lighting and camera conditions. Denoising the images smooths out the pixel values thereby reducing bias from being introduced in the neural network. This was again rejected as it reduced the validation score.\n",
    "\n",
    "__Architecture__\n",
    "\n",
    "Finally, the dropout ration and and number of epochs of the network themselves were adjusted with the following results:\n",
    "\n",
    "| Architecture      | Dropout | Epoches | Validation Results | Test Results |\n",
    "|-------------------|---------|---------|--------------------|--------------|\n",
    "| LeNet             |   0.0   |    10   |        0.951       |       -      |\n",
    "| LeNet             |   0.5   |    10   |        0.965       |       -      |\n",
    "| LeNet             |   0.5   |   100   |        0.992       |    .941      |\n",
    "| LeNet             |   0.75  |    50   |        0.985       |       -      |\n",
    "| LeNet (Final)     |   0.5   |    50   |        0.991       |     0.917    |\n",
    "| Inception (Final) |   0.5   |    10   |        0.987       |     0.60     |"
   ]
  },
  {
   "cell_type": "markdown",
   "metadata": {},
   "source": [
    "---\n",
    "\n",
    "# Test a Model on New Images\n",
    "\n",
    "Several pictures of traffic signs from the internet were downloaded from the internet in order to test the model further. The images are manually cropped to be 32x32.\n"
   ]
  },
  {
   "cell_type": "code",
   "execution_count": 17,
   "metadata": {
    "collapsed": false,
    "scrolled": true
   },
   "outputs": [
    {
     "name": "stderr",
     "output_type": "stream",
     "text": [
      "100%|██████████| 9/9 [00:00<00:00, 16651.41it/s]\n"
     ]
    }
   ],
   "source": [
    "# load test images\n",
    "from skimage import io\n",
    "import numpy as np\n",
    "\n",
    "num_imgs = 9\n",
    "test_imgs = np.uint8(np.zeros((num_imgs,32,32,3)))\n",
    "\n",
    "for i in range(1,num_imgs+1):\n",
    "    image = io.imread('./images/test-image{}.jpg'.format(str(i)))\n",
    "    test_imgs[i-1] = image\n",
    "\n",
    "test_img_data = preprocess_batch(test_imgs.reshape((-1, 32, 32, 3)).astype(np.float32))\n",
    "\n"
   ]
  },
  {
   "cell_type": "markdown",
   "metadata": {},
   "source": [
    "## Question 6\n",
    "\n",
    "The images are visualized as follows:"
   ]
  },
  {
   "cell_type": "code",
   "execution_count": 18,
   "metadata": {
    "collapsed": false
   },
   "outputs": [
    {
     "data": {
      "image/png": "[encoded data removed]",
      "text/plain": [
       "<matplotlib.figure.Figure at 0x7f5e49f2ea90>"
      ]
     },
     "metadata": {},
     "output_type": "display_data"
    },
    {
     "data": {
      "text/plain": [
       "(9, 32, 32, 3)"
      ]
     },
     "execution_count": 18,
     "metadata": {},
     "output_type": "execute_result"
    }
   ],
   "source": [
    "import  matplotlib.pyplot as plt\n",
    "f, ax = plt.subplots(num_imgs, 1)\n",
    "for i in range(num_imgs):\n",
    "    ax[i].imshow(test_imgs[i])\n",
    "    plt.setp(ax[i].get_xticklabels(), visible=False)\n",
    "    plt.setp(ax[i].get_yticklabels(), visible=False)\n",
    "\n",
    "plt.show()\n",
    "test_imgs.shape"
   ]
  },
  {
   "cell_type": "markdown",
   "metadata": {},
   "source": [
    "Conditions for identification are not ideal in the second and last image. In the second image of a bike yield sign, the bike is quite blurry. In the last image of a stop sign, the lighting is significantly different than the other images."
   ]
  },
  {
   "cell_type": "markdown",
   "metadata": {},
   "source": [
    "A summary of the test signs and their categories is shown in the following table:\n",
    "\n",
    "| Test Image | Sign Category            |\n",
    "|------------|--------------------------|\n",
    "| 1          | Wild Animals Crossing - ?|\n",
    "| 2          | Bicycles crossing - 29   |\n",
    "| 3          | Children Crossing - 28   |\n",
    "| 4          | Turn Right ahead - 33    |\n",
    "| 5          | Speed limit (80km/h) - 5 |\n",
    "| 6          | Stop - 14                |\n",
    "| 7          | General Caution - 18     |\n",
    "| 8          | No Entry - 17            |\n",
    "| 9          | Turn Left ahead - 34     |"
   ]
  },
  {
   "cell_type": "code",
   "execution_count": 19,
   "metadata": {
    "collapsed": false
   },
   "outputs": [
    {
     "name": "stdout",
     "output_type": "stream",
     "text": [
      "loading lenet_report...\n",
      "Predicted Labels: [ 4  1 28 33  5 14 18 17  4]\n"
     ]
    }
   ],
   "source": [
    "import tensorflow as tf\n",
    "\n",
    "model_name = 'lenet_report'\n",
    "\n",
    "predictions = tf.nn.softmax(logits)\n",
    "\n",
    "test_img_data\n",
    "\n",
    "def classify_images(X_data):\n",
    "    sess = tf.get_default_session()\n",
    "    pred_vals = sess.run(predictions, feed_dict={x: X_data, keep_prob: 1.0})\n",
    "    return pred_vals\n",
    "    \n",
    "with tf.Session() as sess:\n",
    "    print ('loading '+model_name+'...')\n",
    "    saver.restore(sess, './models/'+model_name)\n",
    "    predictions = classify_images(test_img_data)\n",
    "    top_k = sess.run(tf.nn.top_k(predictions, 5, sorted=True))\n",
    "    print(\"Predicted Labels:\", np.argmax(predictions, 1))"
   ]
  },
  {
   "cell_type": "markdown",
   "metadata": {},
   "source": [
    "## Question 7"
   ]
  },
  {
   "cell_type": "markdown",
   "metadata": {},
   "source": [
    "Of the 9 images tested using this network, 6 were classified correctly. This is to be expected as some of the signs were not in the original dataset. As a percentage this is 66.6% correct, which is much less than our testing score of 94.1% in the German sign dataset."
   ]
  },
  {
   "cell_type": "markdown",
   "metadata": {},
   "source": [
    "## Question 8\n"
   ]
  },
  {
   "cell_type": "code",
   "execution_count": 24,
   "metadata": {
    "collapsed": false,
    "scrolled": true
   },
   "outputs": [
    {
     "data": {
      "image/png": "[encoded data removed]",
      "text/plain": [
       "<matplotlib.figure.Figure at 0x7f5ea79cdda0>"
      ]
     },
     "metadata": {},
     "output_type": "display_data"
    },
    {
     "data": {
      "image/png": "[encoded data removed]",
      "text/plain": [
       "<matplotlib.figure.Figure at 0x7f5ea7ccbe48>"
      ]
     },
     "metadata": {},
     "output_type": "display_data"
    },
    {
     "data": {
      "image/png": "[encoded data removed]",
      "text/plain": [
       "<matplotlib.figure.Figure at 0x7f5e49b677f0>"
      ]
     },
     "metadata": {},
     "output_type": "display_data"
    },
    {
     "data": {
      "image/png": "[encoded data removed]",
      "text/plain": [
       "<matplotlib.figure.Figure at 0x7f5e49b32cf8>"
      ]
     },
     "metadata": {},
     "output_type": "display_data"
    },
    {
     "data": {
      "image/png": "[encoded data removed]",
      "text/plain": [
       "<matplotlib.figure.Figure at 0x7f5e49a98780>"
      ]
     },
     "metadata": {},
     "output_type": "display_data"
    }
   ],
   "source": [
    "### Visualize the softmax probabilities\n",
    "N = 5\n",
    "\n",
    "ind = np.arange(N)  # the x locations for the values\n",
    "\n",
    "for i in range(5):\n",
    "    plt.figure(i)\n",
    "    values = top_k[0][i]\n",
    "    plt.bar(range(N), values, 0.40, color='g')\n",
    "    plt.ylabel('Probabilities')\n",
    "    plt.xlabel('Class Labels')\n",
    "    plt.title('Top {} Softmax Probabilities for test-image{}'.format(N, str(i+1)))\n",
    "    plt.xticks(ind+0.40, tuple(top_k[1][i]))\n",
    "\n",
    "plt.show()"
   ]
  },
  {
   "cell_type": "markdown",
   "metadata": {},
   "source": [
    "Of the 5 visualized predictions, the model incorrectly predicted only the first. The first prediction is for a picture of a horse crossing the road. As there is no \"horse crossing\" sign in the German traffic Sign dataset, it is expected that the model will have trouble identifying it, however, I would consider a correct prediction to be Wild Animal crossing, or class number 31. The top two predictions are class label 4 and 8, which correspond to a speed limit of 80 and 120 respectively. The reason that the model could have predicted these labels in that they are all bright signs, with a dark border and a dark image in the center. The latter 4 predictions are correct, and have a very high level of confidence in their predictions.  "
   ]
  }
 ],
 "metadata": {
  "anaconda-cloud": {},
  "kernelspec": {
   "display_name": "Python [conda env:sdc]",
   "language": "python",
   "name": "conda-env-sdc-py"
  },
  "language_info": {
   "codemirror_mode": {
    "name": "ipython",
    "version": 3
   },
   "file_extension": ".py",
   "mimetype": "text/x-python",
   "name": "python",
   "nbconvert_exporter": "python",
   "pygments_lexer": "ipython3",
   "version": "3.5.2"
  },
  "toc": {
   "nav_menu": {
    "height": "425px",
    "width": "252px"
   },
   "navigate_menu": true,
   "number_sections": true,
   "sideBar": true,
   "threshold": 4,
   "toc_cell": true,
   "toc_position": {
    "height": "580px",
    "left": "0px",
    "right": "1021px",
    "top": "106px",
    "width": "212px"
   },
   "toc_section_display": "block",
   "toc_window_display": true
  }
 },
 "nbformat": 4,
 "nbformat_minor": 1
}
